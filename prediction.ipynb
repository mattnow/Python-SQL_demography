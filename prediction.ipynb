{
 "cells": [
  {
   "cell_type": "code",
   "execution_count": 4,
   "metadata": {},
   "outputs": [],
   "source": [
    "import pandas as pd\n",
    "import statsmodels.api as sm"
   ]
  },
  {
   "cell_type": "code",
   "execution_count": 54,
   "metadata": {},
   "outputs": [
    {
     "name": "stdout",
     "output_type": "stream",
     "text": [
      "    id      city  year  population\n",
      "0    1    Gdańsk  2008      455581\n",
      "1    2  Katowice  2008      309621\n",
      "2    3    Kraków  2008      754624\n",
      "3    4  Warszawa  2008     1709781\n",
      "4    5   Wrocław  2008      632162\n",
      "..  ..       ...   ...         ...\n",
      "67  68  Katowice  2019      292774\n",
      "68  69    Kraków  2019      779115\n",
      "69  70  Warszawa  2019     1790658\n",
      "70  71   Wrocław  2019      642869\n",
      "71  72    Zabrze  2019      172360\n",
      "\n",
      "[72 rows x 4 columns]\n"
     ]
    }
   ],
   "source": [
    "dem = pd.read_csv('dem.csv')\n",
    "print(dem)"
   ]
  },
  {
   "cell_type": "code",
   "execution_count": 47,
   "metadata": {},
   "outputs": [
    {
     "name": "stdout",
     "output_type": "stream",
     "text": [
      "Podaj jedno z miast: \n",
      "Warszawa, Kraków, Wrocław, Gdańsk, Katowice, Zabrze\n"
     ]
    }
   ],
   "source": [
    "print(\"Podaj jedno z miast: \")\n",
    "print(\"Warszawa, Kraków, Wrocław, Gdańsk, Katowice, Zabrze\")\n",
    "\n",
    "city = input() # No input validation (assumption that the user will provide a correct input)\n"
   ]
  },
  {
   "cell_type": "code",
   "execution_count": 48,
   "metadata": {},
   "outputs": [],
   "source": [
    "dem_city = dem.loc[dem['city'] == city, ['year', 'population']]\n"
   ]
  },
  {
   "cell_type": "code",
   "execution_count": 49,
   "metadata": {},
   "outputs": [],
   "source": [
    "y = dem_city[\"population\"]\n",
    "x = dem_city[\"year\"]"
   ]
  },
  {
   "cell_type": "code",
   "execution_count": 50,
   "metadata": {},
   "outputs": [],
   "source": [
    "X = sm.add_constant(x)\n",
    "reg = sm.OLS(y,X).fit()"
   ]
  },
  {
   "cell_type": "code",
   "execution_count": 51,
   "metadata": {},
   "outputs": [],
   "source": [
    "city2030 = reg.predict(sm.add_constant(range(2020,2031,1)))\n",
    "city2030 = np.round_(city2030,decimals=0)\n",
    "city2030 = pd.DataFrame(city2030)\n",
    "city2030.rename(columns={0:'population'}, inplace=True)\n",
    "city2030.insert(0,'year',range(2020,2031,1), True)"
   ]
  },
  {
   "cell_type": "code",
   "execution_count": 52,
   "metadata": {},
   "outputs": [],
   "source": [
    "dem_city = dem_city.append(city2030, ignore_index=True)"
   ]
  },
  {
   "cell_type": "code",
   "execution_count": 53,
   "metadata": {},
   "outputs": [],
   "source": [
    "csv = 'dem_' + city + '.csv'\n",
    "dem_city.to_csv(csv, index=False)"
   ]
  }
 ],
 "metadata": {
  "interpreter": {
   "hash": "4ce0e62306dd6a5716965d4519ada776f947e6dfc145b604b11307c10277ef29"
  },
  "kernelspec": {
   "display_name": "Python 3.10.0 64-bit",
   "language": "python",
   "name": "python3"
  },
  "language_info": {
   "codemirror_mode": {
    "name": "ipython",
    "version": 3
   },
   "file_extension": ".py",
   "mimetype": "text/x-python",
   "name": "python",
   "nbconvert_exporter": "python",
   "pygments_lexer": "ipython3",
   "version": "3.10.0"
  },
  "orig_nbformat": 4
 },
 "nbformat": 4,
 "nbformat_minor": 2
}
